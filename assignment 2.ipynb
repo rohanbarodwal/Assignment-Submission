{
 "cells": [
  {
   "cell_type": "code",
   "execution_count": 10,
   "id": "343fbfca-847d-46e7-aed0-348e6aca22c7",
   "metadata": {},
   "outputs": [
    {
     "name": "stdout",
     "output_type": "stream",
     "text": [
      "4\n"
     ]
    },
    {
     "name": "stdin",
     "output_type": "stream",
     "text": [
      "Enter your name :  Rohan\n"
     ]
    }
   ],
   "source": [
    "# Quewstion 1 : How do you comment code in Python? What are the different types of comments?\\\n",
    "\"\"\"Comments in Python are the lines in the code that are ignored by the interpreter during the execution of\n",
    "the program. Comments enhance the readability of the code and help the programmers to understand the code very\n",
    "carefully.\"\"\"\n",
    "#types of comments : \n",
    "# 1. Single line comment \n",
    "\"\"\"these are like short notes you put on the side on your code to explain something quickly. you use a '#' symbol, and anything after '#' on \n",
    "that line is a comment.\"\"\"\n",
    "# for ex : \n",
    "n = 2+2 #addition\n",
    "print(n) #this will print the result of addition\n",
    "# 2. Multiline comment : \n",
    "#these are used where we provides a longer explanation of our code\n",
    "#for example : \n",
    "\"\"\"input is a function used to take input\n",
    "as a string from the user.\"\"\"\n",
    "n = input(\"Enter your name : \")\n"
   ]
  },
  {
   "cell_type": "code",
   "execution_count": 1,
   "id": "e5195f87-4962-4e2e-9249-d40dd8497993",
   "metadata": {},
   "outputs": [
    {
     "name": "stdout",
     "output_type": "stream",
     "text": [
      "2000\n",
      "3000\n"
     ]
    }
   ],
   "source": [
    "# Question 2 : What are variables in Python? How do you declare and assign values to variables?\n",
    "#variables are like containers and boxes that can hold different types of information.\n",
    "\"\"\"Declaring Variable :  In Python, we don’t need to declare the type of the variable. When we write money =2000,\n",
    "we're declaring a variable money and assigning the value 2000 to it. Later, when we write money = 3000, we’re\n",
    "changing the value of money to 3000.\"\"\"\n",
    "#ex \n",
    "money = 2000\n",
    "print(money)\n",
    "money = 3000\n",
    "print(money)\n",
    "#Rules for declaring a variable : \n",
    "\"\"\"A Python variable name must start with a letter or the underscore character.\n",
    "   A Python variable name cannot start with a number.\n",
    "   A Python variable name can only contain alpha-numeric characters and underscores (A-z, 0-9, and _ ).\n",
    "   Variable in Python names are case-sensitive (name, Name, and NAME are three different variables).\n",
    "   The reserved words(keywords) in Python cannot be used to name the variable in Python.\"\"\""
   ]
  },
  {
   "cell_type": "code",
   "execution_count": 9,
   "id": "271d4e19-f968-42b4-bb84-9f2c6e25c89f",
   "metadata": {},
   "outputs": [
    {
     "name": "stdout",
     "output_type": "stream",
     "text": [
      "<class 'int'>\n",
      "<class 'float'>\n",
      "<class 'float'>\n",
      "<class 'int'>\n",
      "<class 'str'>\n",
      "<class 'int'>\n"
     ]
    }
   ],
   "source": [
    "# Question 3 : How do you convert one data type to another in Python?\n",
    "#int to float\n",
    "a = 10 \n",
    "print(type(a))\n",
    "a = float(a)\n",
    "print(type(a))\n",
    "#float to int \n",
    "x = 10.0 \n",
    "print(type(x))\n",
    "x = int(x)\n",
    "print(type(x))\n",
    "#string to mint\n",
    "z = '10'\n",
    "print( type(z))\n",
    "z = int(z)\n",
    "print(type(z))\n",
    "\n"
   ]
  },
  {
   "cell_type": "code",
   "execution_count": 10,
   "id": "fad36868-8750-4982-a90c-9bfc20d1ebbd",
   "metadata": {},
   "outputs": [
    {
     "data": {
      "text/plain": [
       "'1. Open a Text Editor: First, open a text editor of our choice to write our Python code. \\nwe can use a basic text editor like Notepad on Windows.\\n2. Write your Python Code: Write your Python code in the text editor. For example, you can create a simple \"Hello, World!\"\\nscript.\\n3. Save the Python Script: Save the Python script with a .py extension. For example, you can save it as hello.py.\\n4. open command prompt \\n. Navigate to the Script\\'s Directory: Use the cd (change directory) command to navigate to the directory where \\nyou saved your Python script.\\n6. Execute the Python Script: To execute your Python script, use the python command followed by the name of your\\nscript file.'"
      ]
     },
     "execution_count": 10,
     "metadata": {},
     "output_type": "execute_result"
    }
   ],
   "source": [
    "#Question 4 : How do you write and execute a Python script from the command line? \n",
    "\"\"\"1. Open a Text Editor: First, open a text editor of our choice to write our Python code. \n",
    "we can use a basic text editor like Notepad on Windows.\n",
    "2. Write your Python Code: Write your Python code in the text editor. For example, you can create a simple \"Hello, World!\"\n",
    "script.\n",
    "3. Save the Python Script: Save the Python script with a .py extension. For example, you can save it as hello.py.\n",
    "4. open command prompt \n",
    ". Navigate to the Script's Directory: Use the cd (change directory) command to navigate to the directory where \n",
    "you saved your Python script.\n",
    "6. Execute the Python Script: To execute your Python script, use the python command followed by the name of your\n",
    "script file.\"\"\""
   ]
  },
  {
   "cell_type": "code",
   "execution_count": 11,
   "id": "9f36ea50-0fb5-42c5-bf39-172fa5a5c3f8",
   "metadata": {},
   "outputs": [
    {
     "name": "stdout",
     "output_type": "stream",
     "text": [
      "[2, 3]\n"
     ]
    }
   ],
   "source": [
    "#Question 5 : iven a list my_list = [1, 2, 3, 4, 5], write the code to slice the list and obtain the\n",
    "#sub-list [2, 3]\n",
    "my_list = [1,2,3,4,5]\n",
    "print(my_list[1:3])"
   ]
  },
  {
   "cell_type": "code",
   "execution_count": 12,
   "id": "21b08765-aba3-4ef4-ab72-19c9da90ac5a",
   "metadata": {},
   "outputs": [
    {
     "name": "stdout",
     "output_type": "stream",
     "text": [
      "<class 'complex'>\n"
     ]
    }
   ],
   "source": [
    "# Question 6 : What is a complex number in mathematics, and how is it represented in Python?\n",
    "\"\"\"Complex Numbers: These are numbers that combine real and imaginary parts. They are written in the form\n",
    "'a + bi', where 'a' is a real number, and 'b' is a real number multiplied by \"i\".\n",
    "for Example : 1 + 2i.\n",
    "but in python it represented as in a form of \"a + bj\" where 'a' is real and 'bj' is imagineary part and 'a' and 'ba are real numbers.\"\"\"\n",
    "c = 2 + 4j\n",
    "print(type(c))"
   ]
  },
  {
   "cell_type": "code",
   "execution_count": 1,
   "id": "13f7f6a7-7d9c-4c2c-a3b3-ef85332d64b8",
   "metadata": {},
   "outputs": [
    {
     "name": "stdout",
     "output_type": "stream",
     "text": [
      "25 years\n"
     ]
    }
   ],
   "source": [
    "#Question 7 : What is the correct way to declare a variable named age and assign the value 25 to it?\n",
    "age = 25\n",
    "print(age,\"years\")"
   ]
  },
  {
   "cell_type": "code",
   "execution_count": 2,
   "id": "3babdda9-0ad4-46ef-8e8a-75ddbac12284",
   "metadata": {},
   "outputs": [
    {
     "data": {
      "text/plain": [
       "float"
      ]
     },
     "execution_count": 2,
     "metadata": {},
     "output_type": "execute_result"
    }
   ],
   "source": [
    "\"\"\"Queston 8 : Declare a variable named price and assign the value 9.99 to it. What data type does this variable \n",
    "belong to?\"\"\"\n",
    "price = 99.9 \n",
    "type(price)"
   ]
  },
  {
   "cell_type": "code",
   "execution_count": 3,
   "id": "8cf76422-cb0f-48e2-bffd-5a3e1552aa25",
   "metadata": {},
   "outputs": [
    {
     "name": "stdin",
     "output_type": "stream",
     "text": [
      "Enter Your Full Name :  Rohan Barodwal\n"
     ]
    },
    {
     "name": "stdout",
     "output_type": "stream",
     "text": [
      "Rohan Barodwal\n"
     ]
    }
   ],
   "source": [
    "\"\"\"Question 9 : Create a variable named name and assign your full name to it as a string. How would you print the \n",
    "value of this variable?\"\"\" \n",
    "name = input(\"Enter Your Full Name : \")\n",
    "print(name)\n",
    "\n"
   ]
  },
  {
   "cell_type": "code",
   "execution_count": 15,
   "id": "145239f2-6291-4e61-9aab-db81565aeb56",
   "metadata": {},
   "outputs": [
    {
     "name": "stdout",
     "output_type": "stream",
     "text": [
      "World\n"
     ]
    }
   ],
   "source": [
    "\"\"\"Question 10 : Given the string \"Hello, World!\", extract the substring \"World\".\"\"\"\n",
    "a = \"Hello, World!\"\n",
    "b = a[7:12]\n",
    "print(b)"
   ]
  },
  {
   "cell_type": "code",
   "execution_count": 17,
   "id": "0fee088c-cd59-45cd-9292-7f63b724515c",
   "metadata": {},
   "outputs": [
    {
     "name": "stdout",
     "output_type": "stream",
     "text": [
      "True\n"
     ]
    }
   ],
   "source": [
    "\"\"\"Question 11 : Create a variable named \"is_student\" and assign it a boolean value indicating whether you are \n",
    "currently a student or not.\"\"\"\n",
    "is_student = True\n",
    "print(is_student)"
   ]
  }
 ],
 "metadata": {
  "kernelspec": {
   "display_name": "Python 3 (ipykernel)",
   "language": "python",
   "name": "python3"
  },
  "language_info": {
   "codemirror_mode": {
    "name": "ipython",
    "version": 3
   },
   "file_extension": ".py",
   "mimetype": "text/x-python",
   "name": "python",
   "nbconvert_exporter": "python",
   "pygments_lexer": "ipython3",
   "version": "3.10.8"
  }
 },
 "nbformat": 4,
 "nbformat_minor": 5
}
