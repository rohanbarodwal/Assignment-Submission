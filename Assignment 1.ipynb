{
 "cells": [
  {
   "cell_type": "code",
   "execution_count": 1,
   "id": "873f0911-f69a-4ef7-bd54-b92710a8c9fc",
   "metadata": {},
   "outputs": [
    {
     "name": "stdout",
     "output_type": "stream",
     "text": [
      "<class 'str'> <class 'list'> <class 'list'> <class 'tuple'>\n"
     ]
    }
   ],
   "source": [
    "#question number 1\n",
    "#string\n",
    "a = \"Rohan\"\n",
    "#list\n",
    "b = [1,2,3]\n",
    "#float\n",
    "c = [1.23]\n",
    "#tuple\n",
    "d = (10,20,30)\n",
    "print(type(a),type(b),type(c),type(d))"
   ]
  },
  {
   "cell_type": "code",
   "execution_count": 10,
   "id": "8b662580-fb6c-417f-a798-025119f4fa48",
   "metadata": {},
   "outputs": [
    {
     "name": "stdout",
     "output_type": "stream",
     "text": [
      "<class 'str'> <class 'str'> <class 'list'> <class 'float'>\n"
     ]
    }
   ],
   "source": [
    "#question number 2\n",
    "var1 = ''\n",
    "var2 = '[ DS , ML , Python]'\n",
    "var3 = ['DS' , 'ML' , 'Python']\n",
    "var4 = 1.\n",
    "print(type(var1),type(var2),type(var3),type(var4))"
   ]
  },
  {
   "cell_type": "code",
   "execution_count": 2,
   "id": "9a576983-a8a3-4eef-a1a2-a93895ce36ec",
   "metadata": {},
   "outputs": [
    {
     "name": "stdout",
     "output_type": "stream",
     "text": [
      "2.0\n",
      "1\n",
      "3\n",
      "16\n"
     ]
    }
   ],
   "source": [
    "#question number 3\n",
    "# 1. The division opertator(/)\n",
    "e = 4/2\n",
    "print(e)\n",
    "# 2.  modulo operator(%)\n",
    "f = 10%3\n",
    "print(f)\n",
    "# 3. Floor division operator(//)\n",
    "g = 10//3\n",
    "print(g)\n",
    "# 4. The exponent operator(**)\n",
    "h = 4**2\n",
    "print(h)\n",
    "\n"
   ]
  },
  {
   "cell_type": "code",
   "execution_count": 8,
   "id": "c9ef2608-63ad-4fea-81af-140803954753",
   "metadata": {},
   "outputs": [
    {
     "name": "stdout",
     "output_type": "stream",
     "text": [
      "10\n",
      "1 <class 'int'>\n",
      "2 <class 'int'>\n",
      "(1+3j) <class 'complex'>\n",
      "Rohan <class 'str'>\n",
      "2.3 <class 'float'>\n",
      "True <class 'bool'>\n",
      "False <class 'bool'>\n",
      "Tushar <class 'str'>\n",
      "(2+7j) <class 'complex'>\n",
      "4.0 <class 'float'>\n"
     ]
    }
   ],
   "source": [
    "\"\"\" 4.Create a list of length 10 of your choice containing multiple types of data. Using for loop print the \n",
    "element and its data type. \"\"\"\n",
    "my_list = [1,2,1+3j,\"Rohan\",2.3,True,False,\"Tushar\",2+7j,4.0]\n",
    "print(len(my_list))\n",
    "for i in my_list:\n",
    "    print(i,type(i))\n",
    "\n"
   ]
  },
  {
   "cell_type": "code",
   "execution_count": 5,
   "id": "da0b7587-568d-47f0-82c8-b79621e66a55",
   "metadata": {},
   "outputs": [
    {
     "name": "stdin",
     "output_type": "stream",
     "text": [
      "Enter number A :  12\n",
      "Enter number B :  2\n"
     ]
    },
    {
     "name": "stdout",
     "output_type": "stream",
     "text": [
      "12 is divisible by 2 by 2 times.\n"
     ]
    }
   ],
   "source": [
    "\"\"\" 5. Using a while loop, verify if the number A is purely divisible by number B and if so then how many \n",
    "times it can be divisible.\"\"\"\n",
    "A = int(input(\"Enter number A : \"))\n",
    "B = int(input(\"Enter number B : \"))\n",
    "count = 0\n",
    "temp = A\n",
    "while A%B==0:\n",
    "    A=A/B\n",
    "    count += 1\n",
    "print(temp,\"is divisible by\",B,\"by\",count,\"times.\")\n"
   ]
  },
  {
   "cell_type": "code",
   "execution_count": 4,
   "id": "467905a9-73e9-486d-b5c4-ddba3d44f45f",
   "metadata": {},
   "outputs": [
    {
     "name": "stdout",
     "output_type": "stream",
     "text": [
      "1 is not divisible by 3\n",
      "2 is not divisible by 3\n",
      "3 is divisible by 3\n",
      "4 is not divisible by 3\n",
      "5 is not divisible by 3\n",
      "6 is divisible by 3\n",
      "7 is not divisible by 3\n",
      "8 is not divisible by 3\n",
      "9 is divisible by 3\n",
      "10 is not divisible by 3\n",
      "11 is not divisible by 3\n",
      "12 is divisible by 3\n",
      "13 is not divisible by 3\n",
      "14 is not divisible by 3\n",
      "15 is divisible by 3\n",
      "16 is not divisible by 3\n",
      "17 is not divisible by 3\n",
      "18 is divisible by 3\n",
      "19 is not divisible by 3\n",
      "20 is not divisible by 3\n",
      "21 is divisible by 3\n",
      "22 is not divisible by 3\n",
      "23 is not divisible by 3\n",
      "24 is divisible by 3\n",
      "25 is not divisible by 3\n"
     ]
    }
   ],
   "source": [
    "\"\"\" 6.  Create a list containing 25 int type data. Using for loop and if-else condition print if the element is \n",
    "divisible by 3 or not.\"\"\"\n",
    "my_list = [1,2,3,4,5,6,7,8,9,10,11,12,13,14,15,16,17,18,19,20,21,22,23,24,25]\n",
    "for i in my_list : \n",
    "    if i%3==0:\n",
    "        print(i,\"is divisible by 3\")\n",
    "    else:\n",
    "        print(i,\"is not divisible by 3\")\n"
   ]
  },
  {
   "cell_type": "code",
   "execution_count": 6,
   "id": "b5c3a28d-3ece-4b5a-9193-644ec4a19a28",
   "metadata": {},
   "outputs": [
    {
     "name": "stdout",
     "output_type": "stream",
     "text": [
      "('apple', 'banana', 'cherry')\n",
      "[12, 13, 'tiger']\n"
     ]
    }
   ],
   "source": [
    "\"\"\" 7.What do you understand about mutable and immutable data types? Give examples for both showing \n",
    "this property.\"\"\"\n",
    "#immutable data types \n",
    "#Immutable data types are those whose values cannot be modified after they are created. \n",
    "#Int Float Tuple Complex String are immutable data type.\n",
    "#example : \n",
    "my_tuple = (\"apple\", \"banana\", \"cherry\")\n",
    "print(my_tuple)\n",
    "#mutable data types \n",
    "#A mutable data type is a data type that allows modifying its value or data in place without creating a new copy.\n",
    "#List, Sets, and Dictionary are mutable data types.\n",
    "my_list  = [12,13,\"tiger\"]\n",
    "print(my_list)\n",
    "\n",
    "\n"
   ]
  },
  {
   "cell_type": "code",
   "execution_count": null,
   "id": "52d9d39e-9d70-4ec3-ac2d-b730f489781c",
   "metadata": {},
   "outputs": [],
   "source": []
  }
 ],
 "metadata": {
  "kernelspec": {
   "display_name": "Python 3 (ipykernel)",
   "language": "python",
   "name": "python3"
  },
  "language_info": {
   "codemirror_mode": {
    "name": "ipython",
    "version": 3
   },
   "file_extension": ".py",
   "mimetype": "text/x-python",
   "name": "python",
   "nbconvert_exporter": "python",
   "pygments_lexer": "ipython3",
   "version": "3.10.8"
  }
 },
 "nbformat": 4,
 "nbformat_minor": 5
}
